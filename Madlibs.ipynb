{
 "cells": [
  {
   "cell_type": "markdown",
   "metadata": {},
   "source": [
    "# String concatenation \n",
    "Ask how to put strings toghether\n",
    "Suppose we want to create a string that says \"subscribe to______\""
   ]
  },
  {
   "cell_type": "code",
   "execution_count": 3,
   "metadata": {},
   "outputs": [
    {
     "name": "stdout",
     "output_type": "stream",
     "text": [
      "subscribe to Erik\n",
      "subscribe to Erik\n",
      "subscribe to Erik\n"
     ]
    }
   ],
   "source": [
    "youtuber = \"Erik\" #some string variable\n",
    "# a few ways to do this \n",
    "print(\"subscribe to \"+ youtuber)\n",
    "print(\"subscribe to {}\".format(youtuber))\n",
    "print(f\"subscribe to {youtuber}\")"
   ]
  },
  {
   "cell_type": "code",
   "execution_count": null,
   "metadata": {},
   "outputs": [],
   "source": [
    "adj = input(\"Adjetive: \")\n",
    "verb1 = input(\"Verb: \")\n",
    "verb2 =input(\"Verb: \") \n",
    "famous_person =input(\"Famous person:\")\n",
    "madlib = f\"Computer programming is so {adj}! It makes me so excited all the time because \\ I love to {verb1}. Stay hydrated and {verb2} like you are {famous_person}!\"\n",
    "\n",
    "print(madlib)"
   ]
  },
  {
   "cell_type": "code",
   "execution_count": null,
   "metadata": {},
   "outputs": [],
   "source": []
  }
 ],
 "metadata": {
  "kernelspec": {
   "display_name": "Python 3",
   "language": "python",
   "name": "python3"
  },
  "language_info": {
   "codemirror_mode": {
    "name": "ipython",
    "version": 3
   },
   "file_extension": ".py",
   "mimetype": "text/x-python",
   "name": "python",
   "nbconvert_exporter": "python",
   "pygments_lexer": "ipython3",
   "version": "3.8.5"
  }
 },
 "nbformat": 4,
 "nbformat_minor": 4
}
